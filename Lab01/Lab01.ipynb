{
  "nbformat": 4,
  "nbformat_minor": 2,
  "metadata": {
    "colab": {
      "name": "Lab01.ipynb",
      "provenance": [],
      "authorship_tag": "ABX9TyMxRWsFdQBEIDfDYHQQiIFZ",
      "include_colab_link": true
    },
    "kernelspec": {
      "name": "python3",
      "display_name": "Python 3.9.7 64-bit"
    },
    "language_info": {
      "name": "python",
      "version": "3.9.7",
      "mimetype": "text/x-python",
      "codemirror_mode": {
        "name": "ipython",
        "version": 3
      },
      "pygments_lexer": "ipython3",
      "nbconvert_exporter": "python",
      "file_extension": ".py"
    },
    "interpreter": {
      "hash": "cf6663ca35ebd57d6121109460e534e72c1e1f8ff142ad985cdcb4b7e585eb79"
    }
  },
  "cells": [
    {
      "cell_type": "markdown",
      "source": [
        "<a href=\"https://colab.research.google.com/github/bean17102000/Python/blob/main/Lab01.ipynb\" target=\"_parent\"><img src=\"https://colab.research.google.com/assets/colab-badge.svg\" alt=\"Open In Colab\"/></a>"
      ],
      "metadata": {
        "id": "view-in-github",
        "colab_type": "text"
      }
    },
    {
      "cell_type": "code",
      "execution_count": 1,
      "source": [
        "#Câu 1a\r\n",
        "min(2,3,4)"
      ],
      "outputs": [
        {
          "output_type": "execute_result",
          "data": {
            "text/plain": [
              "2"
            ]
          },
          "metadata": {},
          "execution_count": 1
        }
      ],
      "metadata": {
        "colab": {
          "base_uri": "https://localhost:8080/"
        },
        "id": "sbBP03U9DRFn",
        "outputId": "c26bf211-bf32-4401-b9e5-2bfbbb7e5a93"
      }
    },
    {
      "cell_type": "code",
      "execution_count": 2,
      "source": [
        "#Câu 1b\r\n",
        "max(2,-3,4,7,-5)\r\n"
      ],
      "outputs": [
        {
          "output_type": "execute_result",
          "data": {
            "text/plain": [
              "7"
            ]
          },
          "metadata": {},
          "execution_count": 2
        }
      ],
      "metadata": {
        "colab": {
          "base_uri": "https://localhost:8080/"
        },
        "id": "H2H2ffHJDzdD",
        "outputId": "32d5ffc3-3e56-4e81-f1da-2838e52686f9"
      }
    },
    {
      "cell_type": "code",
      "execution_count": 4,
      "source": [
        "#Câu 1c\r\n",
        "max(2,-3,min(2,7),-9)\r\n"
      ],
      "outputs": [
        {
          "output_type": "execute_result",
          "data": {
            "text/plain": [
              "2"
            ]
          },
          "metadata": {},
          "execution_count": 4
        }
      ],
      "metadata": {
        "colab": {
          "base_uri": "https://localhost:8080/"
        },
        "id": "WXQIUWPUGfSh",
        "outputId": "b4baa594-9c42-4742-bedc-a00b8a1b2513"
      }
    },
    {
      "cell_type": "code",
      "execution_count": 4,
      "source": [
        "#Câu 2a\r\n",
        "min(max(3, 4), abs(-5))\r\n"
      ],
      "outputs": [
        {
          "output_type": "execute_result",
          "data": {
            "text/plain": [
              "4"
            ]
          },
          "metadata": {},
          "execution_count": 4
        }
      ],
      "metadata": {}
    },
    {
      "cell_type": "code",
      "execution_count": 14,
      "source": [
        "#Câu 2b\r\n",
        "abs(min(4, 6, max(2, 8)))\r\n",
        "\r\n"
      ],
      "outputs": [
        {
          "output_type": "execute_result",
          "data": {
            "text/plain": [
              "4"
            ]
          },
          "metadata": {},
          "execution_count": 14
        }
      ],
      "metadata": {}
    },
    {
      "cell_type": "code",
      "execution_count": 6,
      "source": [
        "#Câu 2c\r\n",
        "round(max(5.572, 3.258), abs(-2))\r\n"
      ],
      "outputs": [
        {
          "output_type": "execute_result",
          "data": {
            "text/plain": [
              "5.57"
            ]
          },
          "metadata": {},
          "execution_count": 6
        }
      ],
      "metadata": {}
    },
    {
      "cell_type": "code",
      "execution_count": 11,
      "source": [
        "#Câu 3\r\n",
        "def triple(num):\r\n",
        "    return num * 3\r\n",
        "print('Kết quả là:',triple(3))\r\n"
      ],
      "outputs": [
        {
          "output_type": "stream",
          "name": "stdout",
          "text": [
            "Kết quả là: 9\n"
          ]
        }
      ],
      "metadata": {}
    },
    {
      "cell_type": "code",
      "execution_count": 10,
      "source": [
        "#Câu 4\r\n",
        "def absolute_difference(number1,number2):   \r\n",
        "    return abs(number1-number2)\r\n",
        "print('Giá trị tuyệt đối là:',absolute_difference(3,7))\r\n"
      ],
      "outputs": [
        {
          "output_type": "stream",
          "name": "stdout",
          "text": [
            "Giá trị tuyệt đối là: 4\n"
          ]
        }
      ],
      "metadata": {}
    },
    {
      "cell_type": "code",
      "execution_count": 2,
      "source": [
        "#Câu 5\r\n",
        "def km_to_miles(km):\r\n",
        "    return km / 1.6\r\n",
        "print('Chuyển KM sang Miles = ' ,km_to_miles(5))\r\n",
        "\r\n"
      ],
      "outputs": [
        {
          "output_type": "stream",
          "name": "stdout",
          "text": [
            "Chuyển KM sang Miles =  3.125\n"
          ]
        }
      ],
      "metadata": {}
    },
    {
      "cell_type": "code",
      "execution_count": 4,
      "source": [
        "#Câu 6\r\n",
        "def average_grade(grade1, grade2, grade3):\r\n",
        "    return (grade1 + grade2 + grade3) / 3\r\n",
        "print('Trung bình của 3 lớp: ',average_grade(80,95,90))\r\n",
        "\r\n"
      ],
      "outputs": [
        {
          "output_type": "stream",
          "name": "stdout",
          "text": [
            "Trung bình của 3 lớp:  88.33333333333333\n"
          ]
        }
      ],
      "metadata": {}
    },
    {
      "cell_type": "code",
      "execution_count": 8,
      "source": [
        "#Câu 7\r\n",
        "def top_three_avg(grade1, grade2, grade3, grade4):\r\n",
        " # Here is one solution that does not use average_grade from Q6.\r\n",
        " total = grade1 + grade2 + grade3 + grade4\r\n",
        " top_three = total - min(grade1, grade2, grade3, grade4)\r\n",
        " return top_three / 3\r\n",
        " # Here is a different solution that does use the function from Q6.\r\n",
        " return max(average_grade(grade1, grade2, grade3),\r\n",
        "            average_grade(grade1, grade2, grade4),\r\n",
        "            average_grade(grade1, grade3, grade4),\r\n",
        "            average_grade(grade2, grade3, grade4))\r\n",
        " return (grade1 + grade2 + grade3) / 3\r\n",
        "\r\n",
        "\r\n",
        "top_three_avg(50, 60, 70, 80)\r\n"
      ],
      "outputs": [
        {
          "output_type": "execute_result",
          "data": {
            "text/plain": [
              "70.0"
            ]
          },
          "metadata": {},
          "execution_count": 8
        }
      ],
      "metadata": {}
    },
    {
      "cell_type": "code",
      "execution_count": 9,
      "source": [
        "#Câu 8\r\n",
        "def weeks_elapsed(day1, day2):\r\n",
        "    return abs(int((day1 - day2)/7)) #hàm ABS trả về giá trị tuyệt đối/Còn hàm int trả về số nguyên\r\n",
        "weeks_elapsed(3, 20)\r\n"
      ],
      "outputs": [
        {
          "output_type": "execute_result",
          "data": {
            "text/plain": [
              "2"
            ]
          },
          "metadata": {},
          "execution_count": 9
        }
      ],
      "metadata": {}
    },
    {
      "cell_type": "code",
      "execution_count": null,
      "source": [],
      "outputs": [],
      "metadata": {}
    }
  ]
}
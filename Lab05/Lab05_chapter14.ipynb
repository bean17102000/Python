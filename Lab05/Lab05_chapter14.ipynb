{
  "nbformat": 4,
  "nbformat_minor": 2,
  "metadata": {
    "colab": {
      "name": "Lab05_chapter14.ipynb",
      "provenance": [],
      "collapsed_sections": []
    },
    "interpreter": {
      "hash": "d0c0a7d00bb75b12d761b2ad53a9ccc3e4f9f49f880d146adf87aaa0b986a948"
    },
    "kernelspec": {
      "name": "python3",
      "display_name": "Python 3.9.7 64-bit"
    },
    "language_info": {
      "codemirror_mode": {
        "name": "ipython",
        "version": 3
      },
      "file_extension": ".py",
      "mimetype": "text/x-python",
      "name": "python",
      "nbconvert_exporter": "python",
      "pygments_lexer": "ipython3",
      "version": "3.9.7"
    }
  },
  "cells": [
    {
      "cell_type": "code",
      "execution_count": 1,
      "source": [
        "#Cau 1.\r\n",
        "#a.\r\n",
        "class country:\r\n",
        "    def __init__(self, name, population, area):\r\n",
        "        self.name = name\r\n",
        "        self.population = population\r\n",
        "        self.area = area\r\n",
        "\r\n",
        "    def is_larger(self, objCountry):\r\n",
        "        if self.arena > objCountry.area:\r\n",
        "            return True\r\n",
        "        else:\r\n",
        "            return False\r\n",
        "\r\n",
        "\r\n",
        "        "
      ],
      "outputs": [],
      "metadata": {
        "id": "Ql3kVXeLn1sU"
      }
    },
    {
      "cell_type": "code",
      "execution_count": 2,
      "source": [
        "canada = country('Cananda', 34482779, 9984670)\r\n",
        "canada.name"
      ],
      "outputs": [
        {
          "output_type": "execute_result",
          "data": {
            "text/plain": [
              "'Cananda'"
            ]
          },
          "metadata": {},
          "execution_count": 2
        }
      ],
      "metadata": {
        "colab": {
          "base_uri": "https://localhost:8080/",
          "height": 35
        },
        "id": "T9cGofBpn43t",
        "outputId": "3badd1ea-d730-4059-e33a-289c313c52be"
      }
    },
    {
      "cell_type": "code",
      "execution_count": 3,
      "source": [
        "canada.population"
      ],
      "outputs": [
        {
          "output_type": "execute_result",
          "data": {
            "text/plain": [
              "34482779"
            ]
          },
          "metadata": {},
          "execution_count": 3
        }
      ],
      "metadata": {
        "colab": {
          "base_uri": "https://localhost:8080/"
        },
        "id": "7ufOILbZn6z6",
        "outputId": "0cf02f88-09cb-4bf8-e25e-b2d7093e0977"
      }
    },
    {
      "cell_type": "code",
      "execution_count": 4,
      "source": [
        "canada.area"
      ],
      "outputs": [
        {
          "output_type": "execute_result",
          "data": {
            "text/plain": [
              "9984670"
            ]
          },
          "metadata": {},
          "execution_count": 4
        }
      ],
      "metadata": {
        "colab": {
          "base_uri": "https://localhost:8080/"
        },
        "id": "0wPdC9g6n8mR",
        "outputId": "410e2492-f8a4-44b3-b90a-d4848ec289e1"
      }
    },
    {
      "cell_type": "code",
      "execution_count": 5,
      "source": [
        "#Cau 1.\r\n",
        "#b.\r\n",
        "class Country:\r\n",
        "    def __init__(self, name, population, area):\r\n",
        "        self.name = name\r\n",
        "        self.population = population\r\n",
        "        self.area = area\r\n",
        "\r\n",
        "    def is_larger(self, other):\r\n",
        "        if isinstance(other,Country):\r\n",
        "            return self.area > other.area\r\n",
        "        else:\r\n",
        "            print(\"Both objects need to be from class Country\")\r\n",
        "            return -1"
      ],
      "outputs": [],
      "metadata": {
        "id": "QNpUrQbOoM-V"
      }
    },
    {
      "cell_type": "code",
      "execution_count": 6,
      "source": [
        "canada = Country('Canada', 34482779, 9984670)\r\n",
        "usa = Country('United States of America', 313914040, 9826675)\r\n",
        "canada.is_larger(usa)\r\n"
      ],
      "outputs": [
        {
          "output_type": "execute_result",
          "data": {
            "text/plain": [
              "True"
            ]
          },
          "metadata": {},
          "execution_count": 6
        }
      ],
      "metadata": {
        "id": "ASKFQYwDKcrq",
        "outputId": "a62cdfba-422d-45ee-fd97-7cb1e616bc0b"
      }
    },
    {
      "cell_type": "code",
      "execution_count": null,
      "source": [
        "#Cau 1.\r\n",
        "#c.\r\n"
      ],
      "outputs": [],
      "metadata": {
        "id": "fiduHQW3Kcrr"
      }
    }
  ]
}
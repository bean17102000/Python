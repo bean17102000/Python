{
  "cells": [
    {
      "cell_type": "code",
      "execution_count": 1,
      "metadata": {
        "id": "Ql3kVXeLn1sU"
      },
      "outputs": [],
      "source": [
        "#Cau 1.\n",
        "#a.\n",
        "class country:\n",
        "    def __init__(self, name, population, area):\n",
        "        self.name = name\n",
        "        self.population = population\n",
        "        self.area = area\n",
        "\n",
        "    def is_larger(self, objCountry):\n",
        "        if self.arena > objCountry.area:\n",
        "            return True\n",
        "        else:\n",
        "            return False\n",
        "\n",
        "\n",
        "        "
      ]
    },
    {
      "cell_type": "code",
      "execution_count": 2,
      "metadata": {
        "colab": {
          "base_uri": "https://localhost:8080/",
          "height": 35
        },
        "id": "T9cGofBpn43t",
        "outputId": "3badd1ea-d730-4059-e33a-289c313c52be"
      },
      "outputs": [
        {
          "data": {
            "text/plain": [
              "'Cananda'"
            ]
          },
          "execution_count": 2,
          "metadata": {},
          "output_type": "execute_result"
        }
      ],
      "source": [
        "canada = country('Cananda', 34482779, 9984670)\n",
        "canada.name"
      ]
    },
    {
      "cell_type": "code",
      "execution_count": 3,
      "metadata": {
        "colab": {
          "base_uri": "https://localhost:8080/"
        },
        "id": "7ufOILbZn6z6",
        "outputId": "0cf02f88-09cb-4bf8-e25e-b2d7093e0977"
      },
      "outputs": [
        {
          "data": {
            "text/plain": [
              "34482779"
            ]
          },
          "execution_count": 3,
          "metadata": {},
          "output_type": "execute_result"
        }
      ],
      "source": [
        "canada.population"
      ]
    },
    {
      "cell_type": "code",
      "execution_count": 4,
      "metadata": {
        "colab": {
          "base_uri": "https://localhost:8080/"
        },
        "id": "0wPdC9g6n8mR",
        "outputId": "410e2492-f8a4-44b3-b90a-d4848ec289e1"
      },
      "outputs": [
        {
          "data": {
            "text/plain": [
              "9984670"
            ]
          },
          "execution_count": 4,
          "metadata": {},
          "output_type": "execute_result"
        }
      ],
      "source": [
        "canada.area"
      ]
    },
    {
      "cell_type": "code",
      "execution_count": 5,
      "metadata": {
        "id": "QNpUrQbOoM-V"
      },
      "outputs": [],
      "source": [
        "#Cau 1.\n",
        "#b.\n",
        "class Country:\n",
        "    def __init__(self, name, population, area):\n",
        "        self.name = name\n",
        "        self.population = population\n",
        "        self.area = area\n",
        "\n",
        "    def is_larger(self, other):\n",
        "        if isinstance(other,Country):\n",
        "            return self.area > other.area\n",
        "        else:\n",
        "            print(\"Both objects need to be from class Country\")\n",
        "            return -1"
      ]
    },
    {
      "cell_type": "code",
      "execution_count": 6,
      "metadata": {
        "id": "ASKFQYwDKcrq",
        "outputId": "a62cdfba-422d-45ee-fd97-7cb1e616bc0b"
      },
      "outputs": [
        {
          "data": {
            "text/plain": [
              "True"
            ]
          },
          "execution_count": 6,
          "metadata": {},
          "output_type": "execute_result"
        }
      ],
      "source": [
        "canada = Country('Canada', 34482779, 9984670)\n",
        "usa = Country('United States of America', 313914040, 9826675)\n",
        "canada.is_larger(usa)\n"
      ]
    },
    {
      "cell_type": "code",
      "execution_count": null,
      "metadata": {
        "id": "fiduHQW3Kcrr"
      },
      "outputs": [],
      "source": [
        "#Cau 1.\n",
        "#c.\n"
      ]
    }
  ],
  "metadata": {
    "colab": {
      "collapsed_sections": [],
      "name": "Lab05_chapter14.ipynb",
      "provenance": []
    },
    "interpreter": {
      "hash": "d0c0a7d00bb75b12d761b2ad53a9ccc3e4f9f49f880d146adf87aaa0b986a948"
    },
    "kernelspec": {
      "display_name": "Python 3.9.7 64-bit",
      "name": "python3"
    },
    "language_info": {
      "codemirror_mode": {
        "name": "ipython",
        "version": 3
      },
      "file_extension": ".py",
      "mimetype": "text/x-python",
      "name": "python",
      "nbconvert_exporter": "python",
      "pygments_lexer": "ipython3",
      "version": "3.9.7"
    }
  },
  "nbformat": 4,
  "nbformat_minor": 2
}

{
 "cells": [
  {
   "cell_type": "code",
   "execution_count": 1,
   "metadata": {},
   "outputs": [],
   "source": [
    "#Bài 1\n",
    "import tkinter\n",
    "\n",
    "window = tkinter.Tk()\n",
    "frame = tkinter.Frame(window)\n",
    "frame.pack()\n",
    "button = tkinter.Button(frame, text='Goodbye', command=lambda:\n",
    "                        window.destroy())\n",
    "button.pack()\n",
    "window.mainloop()\n"
   ]
  },
  {
   "cell_type": "code",
   "execution_count": 2,
   "metadata": {},
   "outputs": [],
   "source": [
    "#Bài 2\n",
    "import tkinter\n",
    "\n",
    "\n",
    "def increment(text):\n",
    "    count = int(text.get())\n",
    "    text.set(str(count + 1))\n",
    "\n",
    "\n",
    "window = tkinter.Tk()\n",
    "frame = tkinter.Frame(window)\n",
    "frame.pack()\n",
    "\n",
    "text = tkinter.StringVar()\n",
    "text.set('0')\n",
    "\n",
    "button = tkinter.Button(frame, textvariable=text,\n",
    "                        command=lambda: increment(text))\n",
    "button.pack()\n",
    "window.mainloop()\n"
   ]
  },
  {
   "cell_type": "code",
   "execution_count": 3,
   "metadata": {},
   "outputs": [],
   "source": [
    "#Bài 3\n",
    "def x():\n",
    "    return y\n"
   ]
  },
  {
   "cell_type": "code",
   "execution_count": 4,
   "metadata": {},
   "outputs": [
    {
     "name": "stdout",
     "output_type": "stream",
     "text": [
      "{'A': 0, 'T': 0, 'C': 0, 'G': 0}\n",
      "{'A': 0, 'T': 0, 'C': 0, 'G': 0}\n",
      "{'A': 0, 'T': 0, 'C': 0, 'G': 0}\n",
      "{'A': 0, 'T': 0, 'C': 0, 'G': 0}\n",
      "{'A': 0, 'T': 0, 'C': 0, 'G': 0}\n",
      "{'A': 0, 'T': 0, 'C': 0, 'G': 0}\n",
      "{'A': 0, 'T': 0, 'C': 0, 'G': 0}\n",
      "{'A': 0, 'T': 0, 'C': 0, 'G': 0}\n",
      "{'A': 0, 'T': 0, 'C': 0, 'G': 0}\n"
     ]
    }
   ],
   "source": [
    "#Bài 4\n",
    "import tkinter\n",
    "\n",
    "\n",
    "def count(text, out_data):\n",
    "    data = text.get('0.0', tkinter.END)\n",
    "    counts = {}\n",
    "    for char in 'ATCG':\n",
    "        counts[char] = data.count(char)\n",
    "    print(counts)\n",
    "    out_data.set('Num As: {0} Num Ts: {1} Num Cs: {2} Num Gs: {3}'.format(\n",
    "        counts['A'], counts['T'], counts['C'], counts['G']))\n",
    "\n",
    "\n",
    "window = tkinter.Tk()\n",
    "text = tkinter.Text(window, height=10, width=40)\n",
    "text.pack()\n",
    "\n",
    "out_data = tkinter.StringVar()\n",
    "\n",
    "button = tkinter.Button(window, text='Count', command=lambda: count(text,\n",
    "                                                                    out_data))\n",
    "button.pack()\n",
    "\n",
    "label = tkinter.Label(window, textvar=out_data)\n",
    "label.pack()\n",
    "\n",
    "window.mainloop()\n"
   ]
  },
  {
   "cell_type": "code",
   "execution_count": 5,
   "metadata": {},
   "outputs": [],
   "source": [
    "#Bài 5\n",
    "import tkinter\n",
    "\n",
    "\n",
    "def convert(f_temp, c_temp):\n",
    "    f = f_temp.get()\n",
    "    c_temp.set('{:.1f}'.format((f - 32) * 5 / 9))\n",
    "\n",
    "\n",
    "window = tkinter.Tk()\n",
    "frame = tkinter.Frame(window).pack()\n",
    "\n",
    "f_temp = tkinter.DoubleVar()\n",
    "c_temp = tkinter.StringVar()\n",
    "\n",
    "tkinter.Label(frame, text='Temperature in Fahrenheit:').pack()\n",
    "\n",
    "text = tkinter.Entry(frame, textvar=f_temp).pack()\n",
    "\n",
    "label = tkinter.Label(window, textvar=c_temp).pack()\n",
    "\n",
    "button = tkinter.Button(window, text='Convert', command=lambda: convert(f_temp,\n",
    "                                                                        c_temp))\n",
    "button.pack()\n",
    "\n",
    "button = tkinter.Button(window, text='Quit', command=lambda: window.destroy())\n",
    "button.pack()\n",
    "\n",
    "window.mainloop()\n"
   ]
  },
  {
   "cell_type": "code",
   "execution_count": 6,
   "metadata": {},
   "outputs": [
    {
     "name": "stderr",
     "output_type": "stream",
     "text": [
      "Exception in Tkinter callback\n",
      "Traceback (most recent call last):\n",
      "  File \"C:\\Users\\haduo\\AppData\\Local\\Programs\\Python\\Python39\\lib\\tkinter\\__init__.py\", line 1892, in __call__\n",
      "    return self.func(*args)\n",
      "  File \"C:\\Users\\haduo\\AppData\\Local\\Temp/ipykernel_5364/1359941959.py\", line 28, in save_click\n",
      "    writer = open(filename, 'w')\n",
      "FileNotFoundError: [Errno 2] No such file or directory: ''\n"
     ]
    }
   ],
   "source": [
    "#Bài 6\n",
    "import tkinter\n",
    "import tkinter.filedialog as dialog\n",
    "\n",
    "\n",
    "class TextEditor:\n",
    "    def __init__(self, parent):\n",
    "        self.parent = parent\n",
    "        self.frame = tkinter.Frame(parent)\n",
    "        self.frame.pack()\n",
    "\n",
    "        self.text = tkinter.Text(parent)\n",
    "        self.text.pack()\n",
    "\n",
    "        menubar = tkinter.Menu(parent)\n",
    "        filemenu = tkinter.Menu(menubar)\n",
    "        filemenu.add_command(label='Save', command=self.save_click)\n",
    "        filemenu.add_command(label='Quit', command=self.quit_click)\n",
    "        menubar.add_cascade(label='File', menu=filemenu)\n",
    "        window.config(menu=menubar)\n",
    "\n",
    "    def save_click(self):\n",
    "        data = self.text.get('0.0', tkinter.END)\n",
    "        filename = dialog.asksaveasfilename(\n",
    "            parent=self.parent,\n",
    "            filetypes=[('Text', '*.txt')],\n",
    "            title='Save as...')\n",
    "        writer = open(filename, 'w')\n",
    "        writer.write(data)\n",
    "        writer.close()\n",
    "\n",
    "    def quit_click(self):\n",
    "        self.parent.destroy()\n",
    "\n",
    "\n",
    "if __name__ == '__main__':\n",
    "    window = tkinter.Tk()\n",
    "    app = TextEditor(window)\n",
    "    window.mainloop()\n"
   ]
  }
 ],
 "metadata": {
  "interpreter": {
   "hash": "d0c0a7d00bb75b12d761b2ad53a9ccc3e4f9f49f880d146adf87aaa0b986a948"
  },
  "kernelspec": {
   "display_name": "Python 3.9.7 64-bit",
   "name": "python3"
  },
  "language_info": {
   "codemirror_mode": {
    "name": "ipython",
    "version": 3
   },
   "file_extension": ".py",
   "mimetype": "text/x-python",
   "name": "python",
   "nbconvert_exporter": "python",
   "pygments_lexer": "ipython3",
   "version": "3.9.7"
  },
  "orig_nbformat": 4
 },
 "nbformat": 4,
 "nbformat_minor": 2
}

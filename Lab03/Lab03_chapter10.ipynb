{
  "nbformat": 4,
  "nbformat_minor": 2,
  "metadata": {
    "colab": {
      "name": "Lab03_chapter10.ipynb",
      "provenance": [],
      "collapsed_sections": []
    },
    "kernelspec": {
      "name": "python3",
      "display_name": "Python 3.9.7 64-bit"
    },
    "language_info": {
      "name": "python",
      "version": "3.9.7",
      "mimetype": "text/x-python",
      "codemirror_mode": {
        "name": "ipython",
        "version": 3
      },
      "pygments_lexer": "ipython3",
      "nbconvert_exporter": "python",
      "file_extension": ".py"
    },
    "interpreter": {
      "hash": "1b09a2114f766ade8c96d59fac53e9a7786b8135e6a60da3583914e83d6a2b76"
    }
  },
  "cells": [
    {
      "cell_type": "markdown",
      "source": [
        "Bai 1"
      ],
      "metadata": {
        "id": "XNfMc3ckUpNS"
      }
    },
    {
      "cell_type": "code",
      "execution_count": 7,
      "source": [
        "filename = input('Which file would you like to back-up? ')\n",
        "new_filename = filename + '.bak'\n",
        "backup = open(new_filename, 'w')\n",
        "try:\n",
        "    file = open(filename)\n",
        "    for line in open(filename):\n",
        "        backup.write(line)\n",
        " \n",
        "    backup.close()\n",
        "except IOError:\n",
        "    print('File khong ton tai')\n",
        "print('Xong')\n"
      ],
      "outputs": [
        {
          "output_type": "stream",
          "name": "stdout",
          "text": [
            "File khong ton tai\n",
            "Xong\n"
          ]
        }
      ],
      "metadata": {
        "colab": {
          "base_uri": "https://localhost:8080/"
        },
        "id": "iWQdjIjrUg0v",
        "outputId": "9980760d-3762-4f7a-b749-2ffc74640f9d"
      }
    },
    {
      "cell_type": "markdown",
      "source": [
        "Bai 2"
      ],
      "metadata": {
        "id": "T4-4knJFVgKw"
      }
    },
    {
      "cell_type": "code",
      "execution_count": 9,
      "source": [
        "alkaline_metals = []\r\n",
        "for line in open('alkaline_metals.txt'):\r\n",
        " alkaline_metals.append(line.strip().split(' '))\r\n",
        "print(alkaline_metals)"
      ],
      "outputs": [
        {
          "output_type": "stream",
          "name": "stdout",
          "text": [
            "[['beryllium', '4', '9.012'], ['magnesium', '12', '24.305'], ['calcium', '20', '20.078'], ['strontium', '38', '87.62'], ['barium', '56', '137.327'], ['radium', '88', '226']]\n"
          ]
        }
      ],
      "metadata": {
        "id": "O224FS7eVerQ",
        "colab": {
          "base_uri": "https://localhost:8080/"
        },
        "outputId": "eedf7dac-a197-4cbf-9208-e8ed05b2aebc"
      }
    },
    {
      "cell_type": "markdown",
      "source": [
        "Bai 3"
      ],
      "metadata": {
        "id": "5sCvYOWbYCXW"
      }
    },
    {
      "cell_type": "code",
      "execution_count": 10,
      "source": [
        "content = []\r\n",
        "for line in open('duongkhanh.txt'):\r\n",
        "    content.append(line)\r\n",
        "print('Doc nguoc file :\\n ',)\r\n",
        "for line in reversed(content):\r\n",
        "    print(line)"
      ],
      "outputs": [
        {
          "output_type": "stream",
          "name": "stdout",
          "text": [
            "Doc nguoc file :\n",
            " \n",
            "CNTT\n",
            "21\n",
            "\n",
            "TPHCM\n",
            "\n",
            "Ha Duong Khanh\t\n",
            "\n"
          ]
        }
      ],
      "metadata": {
        "id": "RgjUuBqJobpm",
        "outputId": "e52adb79-be35-44a1-bdfe-6743f718112e"
      }
    },
    {
      "cell_type": "markdown",
      "source": [
        "Bai 4"
      ],
      "metadata": {
        "id": "mwLWSdjMYET1"
      }
    },
    {
      "cell_type": "code",
      "execution_count": 11,
      "source": [
        "def skip_header(reader):\r\n",
        "    \r\n",
        "    # Read the description line and then the comment lines.\r\n",
        "    line = reader.readline()    \r\n",
        "    line = reader.readline()\r\n",
        "    while line.startswith('#'):\r\n",
        "        line = reader.readline() \r\n",
        "    # Now line contains the first real piece of data.\r\n",
        "    return line\r\n",
        "\r\n",
        "def process_file(reader):\r\n",
        "    # Find the first piece of data.\r\n",
        "    line = skip_header(reader).strip()\r\n",
        "    print(line)\r\n",
        "    # Read the rest of the data.\r\n",
        "    for line in reader:\r\n",
        "        line = line.strip()\r\n",
        "        print(line)\r\n",
        "\r\n",
        "input_file = open('duongkhanh.txt', 'r')\r\n",
        "process_file(input_file)\r\n",
        "input_file.close()"
      ],
      "outputs": [
        {
          "output_type": "stream",
          "name": "stdout",
          "text": [
            "TPHCM\n",
            "21\n",
            "CNTT\n"
          ]
        }
      ],
      "metadata": {
        "id": "STcD36R3YF7f",
        "outputId": "57da2a34-12c1-4eef-d89d-ad49843a3dc8"
      }
    },
    {
      "cell_type": "markdown",
      "source": [
        "Bai 5"
      ],
      "metadata": {
        "id": "Tjou5313obpp"
      }
    },
    {
      "cell_type": "code",
      "execution_count": 12,
      "source": [
        "def smallest_value_skip(reader):\r\n",
        "    line = skip_header(reader).strip()\r\n",
        "    # Only execute this code, if there is data following the header.\r\n",
        "    if line != '':\r\n",
        "        smallest = line\r\n",
        "    for line in reader:\r\n",
        "        line = line.strip()\r\n",
        "        if line != '-':\r\n",
        "            value = line\r\n",
        "            smallest = min(smallest, value)\r\n",
        "    return smallest\r\n",
        "\r\n",
        "input_file = open('duongkhanh.txt', 'r')\r\n",
        "print(smallest_value_skip(input_file))\r\n",
        "input_file.close()"
      ],
      "outputs": [
        {
          "output_type": "stream",
          "name": "stdout",
          "text": [
            "21\n"
          ]
        }
      ],
      "metadata": {
        "id": "WOSHmYBiobpq",
        "outputId": "adfbfd26-760d-44fe-cacc-f0a2d5abefea"
      }
    },
    {
      "cell_type": "markdown",
      "source": [
        "Bai 6"
      ],
      "metadata": {
        "id": "iaz7iAduobpr"
      }
    },
    {
      "cell_type": "code",
      "execution_count": 13,
      "source": [
        "def smallest_value_skip2(reader):\r\n",
        "    line = skip_header(reader).strip()\r\n",
        "    # Now line contains the first data value; this is also the smallest value\r\n",
        "    # found so far, because it is the only one we have seen.\r\n",
        "    smallest = line\r\n",
        "\r\n",
        "    for line in reader: \r\n",
        "        line = line.strip()\r\n",
        "        if line == '-':\r\n",
        "            continue\r\n",
        "\r\n",
        "    value = line\r\n",
        "    smallest = min(smallest, value)\r\n",
        "\r\n",
        "    return smallest\r\n",
        "\r\n",
        "input_file = open('duongkhanh.txt', 'r')\r\n",
        "print(smallest_value_skip2(input_file))\r\n",
        "input_file.close()"
      ],
      "outputs": [
        {
          "output_type": "stream",
          "name": "stdout",
          "text": [
            "CNTT\n"
          ]
        }
      ],
      "metadata": {
        "id": "eczqPWylobpr",
        "outputId": "3b861020-742c-4dac-da78-62b987517d90"
      }
    },
    {
      "cell_type": "markdown",
      "source": [
        "Bai 7"
      ],
      "metadata": {
        "id": "jLL6Xtrtobps"
      }
    },
    {
      "cell_type": "code",
      "execution_count": 14,
      "source": [
        "def read_molecule(reader):\r\n",
        "    content = []\r\n",
        "    for line in reader:\r\n",
        "        if not line.startswith('CMNT'):\r\n",
        "            if not line.isspace():\r\n",
        "                content.append(line.strip())\r\n",
        "    for line in content:\r\n",
        "        print(line)\r\n",
        "    \r\n",
        "input_file = open('duongkhanh.pdb', 'r')\r\n",
        "print(read_molecule(input_file))\r\n",
        "input_file.close()"
      ],
      "outputs": [
        {
          "output_type": "stream",
          "name": "stdout",
          "text": [
            "Ha Duong Khanh\n",
            "187IT06847\n",
            "TPHCM\n",
            "CNTT\n",
            "None\n"
          ]
        }
      ],
      "metadata": {
        "id": "w8zyx070obps",
        "outputId": "2861a06b-6a91-494d-92e9-1f8e0fe10462"
      }
    }
  ]
}
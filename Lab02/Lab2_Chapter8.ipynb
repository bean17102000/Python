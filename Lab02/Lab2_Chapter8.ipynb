{
  "nbformat": 4,
  "nbformat_minor": 2,
  "metadata": {
    "colab": {
      "name": "Untitled2.ipynb",
      "provenance": []
    },
    "kernelspec": {
      "name": "python3",
      "display_name": "Python 3"
    },
    "language_info": {
      "name": "python"
    }
  },
  "cells": [
    {
      "cell_type": "markdown",
      "source": [
        "Câu 1:\n"
      ],
      "metadata": {
        "id": "YdS7JVGsI3iQ"
      }
    },
    {
      "cell_type": "code",
      "execution_count": null,
      "source": [
        "kingdoms =['Bacteria', 'Protozoa', 'Chromista','Plantae', 'Fungi','Animalia']\r\n",
        "#câu a\r\n",
        "print(kingdoms[0])\r\n",
        "#câu b\r\n",
        "print(kingdoms[5])\r\n",
        "#câu c\r\n",
        "print(kingdoms[:3])\r\n",
        "#câu d\r\n",
        "print(kingdoms[2:5])\r\n",
        "#câu e\r\n",
        "print(kingdoms[4:])\r\n",
        "#câu f\r\n",
        "print(kingdoms[1:0])"
      ],
      "outputs": [
        {
          "output_type": "stream",
          "name": "stdout",
          "text": [
            "Bacteria\n",
            "Animalia\n",
            "['Bacteria', 'Protozoa', 'Chromista']\n",
            "['Chromista', 'Plantae', 'Fungi']\n",
            "['Fungi', 'Animalia']\n",
            "[]\n"
          ]
        }
      ],
      "metadata": {
        "colab": {
          "base_uri": "https://localhost:8080/"
        },
        "id": "IooMp3rzI8t3",
        "outputId": "29ebd880-d326-4fab-8253-3b311e16cce3"
      }
    },
    {
      "cell_type": "markdown",
      "source": [
        "Câu 2:"
      ],
      "metadata": {
        "id": "GrlV_FN1JDbu"
      }
    },
    {
      "cell_type": "code",
      "execution_count": null,
      "source": [
        "kingdoms =['Bacteria', 'Protozoa', 'Chromista','Plantae', 'Fungi','Animalia']\r\n",
        "#câu a\r\n",
        "print(kingdoms[-6])\r\n",
        "#câu b\r\n",
        "print(kingdoms[-1])\r\n",
        "#câu c\r\n",
        "print(kingdoms[-6:-3])\r\n",
        "#câu d\r\n",
        "print(kingdoms[-4:-1])\r\n",
        "#câu e\r\n",
        "print(kingdoms[-2:])\r\n",
        "#câu f\r\n",
        "print(kingdoms[-1:-2])"
      ],
      "outputs": [
        {
          "output_type": "stream",
          "name": "stdout",
          "text": [
            "Bacteria\n",
            "Animalia\n",
            "['Bacteria', 'Protozoa', 'Chromista']\n",
            "['Chromista', 'Plantae', 'Fungi']\n",
            "['Fungi', 'Animalia']\n",
            "[]\n"
          ]
        }
      ],
      "metadata": {
        "colab": {
          "base_uri": "https://localhost:8080/"
        },
        "id": "MrcRJ258JE2m",
        "outputId": "0a068847-fb71-4d24-e6fc-7fa23238c384"
      }
    },
    {
      "cell_type": "markdown",
      "source": [
        "Câu 3:"
      ],
      "metadata": {
        "id": "VpvSr6K_JmC2"
      }
    },
    {
      "cell_type": "code",
      "execution_count": null,
      "source": [
        "appointments = ['9:00', '10:30', '14:00', '15:00', '15:30']\r\n",
        "appointments.append('16:30')\r\n",
        "appointments"
      ],
      "outputs": [
        {
          "output_type": "execute_result",
          "data": {
            "text/plain": [
              "['9:00', '10:30', '14:00', '15:00', '15:30', '16:30']"
            ]
          },
          "metadata": {},
          "execution_count": 3
        }
      ],
      "metadata": {
        "colab": {
          "base_uri": "https://localhost:8080/"
        },
        "id": "YSLTTV4-Jp7o",
        "outputId": "bbb72163-99ac-4658-b68b-aff79204d32e"
      }
    },
    {
      "cell_type": "markdown",
      "source": [
        "Câu 4:"
      ],
      "metadata": {
        "id": "By90IMvhJsle"
      }
    },
    {
      "cell_type": "code",
      "execution_count": null,
      "source": [
        "ids =[4353, 2314, 2956, 3382, 9362, 3900]\r\n",
        "#Câu a \r\n",
        "ids.remove(3382)\r\n",
        "print(ids)\r\n",
        "#Câu b\r\n",
        "ids.index(9362)\r\n",
        "print(ids)\r\n",
        "#Câu c\r\n",
        "ids.insert(ids.index(9362) + 1, 4499)\r\n",
        "print(ids)\r\n",
        "#Câu d\r\n",
        "ids = ids + [5566, 1830]\r\n",
        "print(ids)\r\n",
        "#Câu e\r\n",
        "ids.reverse()\r\n",
        "print(ids)\r\n",
        "#Câu f\r\n",
        "ids.sort()\r\n",
        "print(ids)"
      ],
      "outputs": [
        {
          "output_type": "stream",
          "name": "stdout",
          "text": [
            "[4353, 2314, 2956, 9362, 3900]\n",
            "[4353, 2314, 2956, 9362, 3900]\n",
            "[4353, 2314, 2956, 9362, 4499, 3900]\n",
            "[4353, 2314, 2956, 9362, 4499, 3900, 5566, 1830]\n",
            "[1830, 5566, 3900, 4499, 9362, 2956, 2314, 4353]\n",
            "[1830, 2314, 2956, 3900, 4353, 4499, 5566, 9362]\n"
          ]
        }
      ],
      "metadata": {
        "colab": {
          "base_uri": "https://localhost:8080/"
        },
        "id": "DTfVqp24Jtg5",
        "outputId": "45a00fa7-c733-414a-cde9-14896b7d2b1d"
      }
    },
    {
      "cell_type": "markdown",
      "source": [
        "Câu 5:\n"
      ],
      "metadata": {
        "id": "dNsWMgg0JxiH"
      }
    },
    {
      "cell_type": "code",
      "execution_count": null,
      "source": [
        "alkaline_earth_metals = ['metals—beryllium','magnesium', ' calcium',' strontium','barium','radium']\r\n",
        "#Câu a\r\n",
        "alkaline_earth_metals = [4, 12, 20, 38, 56, 88]\r\n",
        "#Câu b\r\n",
        "print(alkaline_earth_metals[5], alkaline_earth_metals[-1])\r\n",
        "#Câu c\r\n",
        "print(len(alkaline_earth_metals))\r\n",
        "#Câu d\r\n",
        "print(max(alkaline_earth_metals))"
      ],
      "outputs": [
        {
          "output_type": "stream",
          "name": "stdout",
          "text": [
            "88 88\n",
            "6\n",
            "88\n"
          ]
        }
      ],
      "metadata": {
        "colab": {
          "base_uri": "https://localhost:8080/"
        },
        "id": "3Mr4rlezJzPO",
        "outputId": "9ec45314-e2f0-43d2-94e4-a4ca06005d91"
      }
    },
    {
      "cell_type": "markdown",
      "source": [
        "Câu 6:"
      ],
      "metadata": {
        "id": "8InGjDTGJ2AO"
      }
    },
    {
      "cell_type": "code",
      "execution_count": null,
      "source": [
        "#Câu a\r\n",
        "temps = [25.2, 16.8, 31.4, 23.9, 28, 22.5, 19.6]\r\n",
        "print(temps)\r\n",
        "#Câu b\r\n",
        "temps.sort()\r\n",
        "print(temps)\r\n",
        "#Câu c\r\n",
        "cool_temps = temps[0:2]\r\n",
        "print(cool_temps)\r\n",
        "warm_temps = temps[2:]\r\n",
        "print(warm_temps)\r\n",
        "#Câu d\r\n",
        "temps_in_celsius = cool_temps + warm_temps\r\n",
        "print(temps_in_celsius)"
      ],
      "outputs": [
        {
          "output_type": "stream",
          "name": "stdout",
          "text": [
            "[25.2, 16.8, 31.4, 23.9, 28, 22.5, 19.6]\n",
            "[16.8, 19.6, 22.5, 23.9, 25.2, 28, 31.4]\n",
            "[16.8, 19.6]\n",
            "[22.5, 23.9, 25.2, 28, 31.4]\n",
            "[16.8, 19.6, 22.5, 23.9, 25.2, 28, 31.4]\n"
          ]
        }
      ],
      "metadata": {
        "colab": {
          "base_uri": "https://localhost:8080/"
        },
        "id": "wDyJIuoKJ27m",
        "outputId": "ef2daaa9-5240-4051-a250-31ddc1704c15"
      }
    },
    {
      "cell_type": "markdown",
      "source": [
        "Câu 7:"
      ],
      "metadata": {
        "id": "2E49NyaaJ5VO"
      }
    },
    {
      "cell_type": "code",
      "execution_count": null,
      "source": [
        "def same_first_last(L : list ) -> bool:\r\n",
        "  if len(L) >= 2 and L[0] == L[-1]:\r\n",
        "    print(True)\r\n",
        "  else:\r\n",
        "    print(False)\r\n",
        "\r\n",
        "same_first_last([3, 4, 2, 8, 3])\r\n",
        "same_first_last(['apple', 'banana', 'pear'])\r\n",
        "same_first_last([4.0, 4.5])"
      ],
      "outputs": [
        {
          "output_type": "stream",
          "name": "stdout",
          "text": [
            "True\n",
            "False\n",
            "False\n"
          ]
        }
      ],
      "metadata": {
        "colab": {
          "base_uri": "https://localhost:8080/"
        },
        "id": "OqxWWzrvJ6M_",
        "outputId": "df4ccc9e-6f30-4717-ab04-b40f0a39cebb"
      }
    },
    {
      "cell_type": "markdown",
      "source": [
        "Câu 8:"
      ],
      "metadata": {
        "id": "HgmIegM5J8VA"
      }
    },
    {
      "cell_type": "code",
      "execution_count": null,
      "source": [
        "def is_longer(L1: list, L2: list) -> bool:\r\n",
        "  if len(L1) > len(L2):\r\n",
        "    print(True)\r\n",
        "  else:\r\n",
        "    print(False)\r\n",
        "is_longer([1, 2, 3], [4, 5])\r\n",
        "is_longer(['abcdef'], ['ab', 'cd', 'ef'])\r\n",
        "is_longer(['a', 'b', 'c'], [1, 2, 3])"
      ],
      "outputs": [
        {
          "output_type": "stream",
          "name": "stdout",
          "text": [
            "True\n",
            "False\n",
            "False\n"
          ]
        }
      ],
      "metadata": {
        "colab": {
          "base_uri": "https://localhost:8080/"
        },
        "id": "SL-8iufWJ9cn",
        "outputId": "48f7dee6-db73-458a-d5be-3eb4b7525106"
      }
    },
    {
      "cell_type": "markdown",
      "source": [
        "Câu 9:"
      ],
      "metadata": {
        "id": "DX328UISJ_7n"
      }
    },
    {
      "cell_type": "code",
      "execution_count": null,
      "source": [
        "values = [0, 1, 2]\r\n",
        "values[1] = values"
      ],
      "outputs": [],
      "metadata": {
        "id": "UY6q_EMqKBDv"
      }
    },
    {
      "cell_type": "markdown",
      "source": [
        "Câu 10:"
      ],
      "metadata": {
        "id": "NpyoBWYYKEbG"
      }
    },
    {
      "cell_type": "code",
      "execution_count": null,
      "source": [
        "units =[['km', 'miles', 'league'],['kg', 'pound', 'stone']]\r\n",
        "#A\r\n",
        "print(units[0])\r\n",
        "#B\r\n",
        "print(units[-1] or units[1])\r\n",
        "#C\r\n",
        "print(units[0][0])\r\n",
        "#D\r\n",
        "print(units[1][0])\r\n",
        "#E\r\n",
        "print(units[0][1:])\r\n",
        "#F\r\n",
        "print(units[1][0:2])"
      ],
      "outputs": [
        {
          "output_type": "stream",
          "name": "stdout",
          "text": [
            "['km', 'miles', 'league']\n",
            "['kg', 'pound', 'stone']\n",
            "km\n",
            "kg\n",
            "['miles', 'league']\n",
            "['kg', 'pound']\n"
          ]
        }
      ],
      "metadata": {
        "colab": {
          "base_uri": "https://localhost:8080/"
        },
        "id": "6jm_91oJKFeX",
        "outputId": "6765dcda-dfe2-46d2-9a27-7c281acaaac3"
      }
    },
    {
      "cell_type": "markdown",
      "source": [
        "Câu 11:"
      ],
      "metadata": {
        "id": "N4jQ5L5FKH8W"
      }
    },
    {
      "cell_type": "code",
      "execution_count": null,
      "source": [
        "units =[['km', 'miles', 'league'],['kg', 'pound', 'stone']]\r\n",
        "#A\r\n",
        "print(units[-2])\r\n",
        "#B\r\n",
        "print(units[-1])\r\n",
        "#C\r\n",
        "print(units[-2][-3])\r\n",
        "#D\r\n",
        "print(units[-1][-3])\r\n",
        "#E\r\n",
        "print(units[-2][-2:])\r\n",
        "#F\r\n",
        "print(units[-1][:-1])"
      ],
      "outputs": [
        {
          "output_type": "stream",
          "name": "stdout",
          "text": [
            "['km', 'miles', 'league']\n",
            "['kg', 'pound', 'stone']\n",
            "km\n",
            "kg\n",
            "['miles', 'league']\n",
            "['kg', 'pound']\n"
          ]
        }
      ],
      "metadata": {
        "colab": {
          "base_uri": "https://localhost:8080/"
        },
        "id": "x-eAwQD8KJHg",
        "outputId": "0dc1938b-b78b-4c10-a631-e76db7da37e9"
      }
    }
  ]
}
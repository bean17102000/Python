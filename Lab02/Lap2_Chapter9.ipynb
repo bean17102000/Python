{
  "nbformat": 4,
  "nbformat_minor": 2,
  "metadata": {
    "colab": {
      "name": "Untitled3.ipynb",
      "provenance": []
    },
    "kernelspec": {
      "name": "python3",
      "display_name": "Python 3"
    },
    "language_info": {
      "name": "python"
    }
  },
  "cells": [
    {
      "cell_type": "markdown",
      "source": [
        "Câu 1:"
      ],
      "metadata": {
        "id": "nAmb7uD2KdAa"
      }
    },
    {
      "cell_type": "code",
      "execution_count": null,
      "source": [
        "celegans_phenotypes = ['Emb','Him', 'Unc', 'Lon', 'Dpy', 'Sma']\r\n",
        "for phenotype in celegans_phenotypes:\r\n",
        " print(phenotype)"
      ],
      "outputs": [
        {
          "output_type": "stream",
          "name": "stdout",
          "text": [
            "Emb\n",
            "Him\n",
            "Unc\n",
            "Lon\n",
            "Dpy\n",
            "Sma\n"
          ]
        }
      ],
      "metadata": {
        "colab": {
          "base_uri": "https://localhost:8080/"
        },
        "id": "V2mQBgTUKezY",
        "outputId": "cb6dc865-8a19-43a3-e054-80df9de60980"
      }
    },
    {
      "cell_type": "markdown",
      "source": [
        "Câu 2:"
      ],
      "metadata": {
        "id": "vXkfe7owKim3"
      }
    },
    {
      "cell_type": "code",
      "execution_count": null,
      "source": [
        "half_lives = [87.74, 24110.0,6537.0, 14.4, 376000.0]\r\n",
        "for value in half_lives:\r\n",
        " print(value, end=' ')"
      ],
      "outputs": [
        {
          "output_type": "stream",
          "name": "stdout",
          "text": [
            "87.74 24110.0 6537.0 14.4 376000.0 "
          ]
        }
      ],
      "metadata": {
        "colab": {
          "base_uri": "https://localhost:8080/"
        },
        "id": "QGzsbBCHKjrn",
        "outputId": "40a7f6fa-e59c-4267-e765-2b44fd07122c"
      }
    },
    {
      "cell_type": "markdown",
      "source": [
        "Câu 3:"
      ],
      "metadata": {
        "id": "28Jax_6nKlk3"
      }
    },
    {
      "cell_type": "code",
      "execution_count": null,
      "source": [
        "whales = [5, 4, 7, 3, 2, 3, 2, 6, 4, 2, 1, 7, 1, 3]\r\n",
        "more_whales = []\r\n",
        "for count in whales:\r\n",
        " more_whales.append(count + 1)\r\n",
        "print(more_whales)"
      ],
      "outputs": [
        {
          "output_type": "stream",
          "name": "stdout",
          "text": [
            "[6, 5, 8, 4, 3, 4, 3, 7, 5, 3, 2, 8, 2, 4]\n"
          ]
        }
      ],
      "metadata": {
        "colab": {
          "base_uri": "https://localhost:8080/"
        },
        "id": "TZSXbcRnKmsf",
        "outputId": "171ba9cf-b3de-4cc8-8437-ecb5a6e2b870"
      }
    },
    {
      "cell_type": "markdown",
      "source": [
        "Câu 4:"
      ],
      "metadata": {
        "id": "jSqkR9mXKo0_"
      }
    },
    {
      "cell_type": "code",
      "execution_count": null,
      "source": [
        "#a.\r\n",
        "alkaline_earth_metals = [[4, 9.012], [12, 24.305],[20, 40.078], [38, 87.62],[56, 137.327], [88, 226]]\r\n",
        "#b.\r\n",
        "for inner_list in alkaline_earth_metals:\r\n",
        " print(\"inner_list[0]\",inner_list[0])\r\n",
        " print(\"inner_list[1]\",inner_list[1])\r\n",
        "#c.\r\n",
        "number_and_weight = []\r\n",
        "for inner_list in alkaline_earth_metals:\r\n",
        " number_and_weight.append(inner_list[0])\r\n",
        " number_and_weight.append(inner_list[1])\r\n",
        " print(number_and_weight[0])\r\n",
        " print(number_and_weight[1])"
      ],
      "outputs": [
        {
          "output_type": "stream",
          "name": "stdout",
          "text": [
            "inner_list[0] 4\n",
            "inner_list[1] 9.012\n",
            "inner_list[0] 12\n",
            "inner_list[1] 24.305\n",
            "inner_list[0] 20\n",
            "inner_list[1] 40.078\n",
            "inner_list[0] 38\n",
            "inner_list[1] 87.62\n",
            "inner_list[0] 56\n",
            "inner_list[1] 137.327\n",
            "inner_list[0] 88\n",
            "inner_list[1] 226\n",
            "4\n",
            "9.012\n",
            "4\n",
            "9.012\n",
            "4\n",
            "9.012\n",
            "4\n",
            "9.012\n",
            "4\n",
            "9.012\n",
            "4\n",
            "9.012\n"
          ]
        }
      ],
      "metadata": {
        "colab": {
          "base_uri": "https://localhost:8080/"
        },
        "id": "Cy7GAA0vKp2u",
        "outputId": "883b4e35-4ebd-47d1-cf7a-4da7f2bbf98a"
      }
    },
    {
      "cell_type": "markdown",
      "source": [
        "Câu 7:"
      ],
      "metadata": {
        "id": "TBy_JNm8K7S3"
      }
    },
    {
      "cell_type": "code",
      "execution_count": null,
      "source": [
        "country_populations = [1295, 23, 7, 3, 47, 21]\r\n",
        "total = 0\r\n",
        "for population in country_populations:\r\n",
        " total += population\r\n",
        "print(total)\r\n"
      ],
      "outputs": [
        {
          "output_type": "stream",
          "name": "stdout",
          "text": [
            "1396\n"
          ]
        }
      ],
      "metadata": {
        "colab": {
          "base_uri": "https://localhost:8080/"
        },
        "id": "T4ULjrBFK_Bv",
        "outputId": "8077b7bb-0d4f-4fdd-9eb3-f7de1ea87e20"
      }
    },
    {
      "cell_type": "markdown",
      "source": [
        "Câu 8:"
      ],
      "metadata": {
        "id": "vubH1trVLIO3"
      }
    },
    {
      "cell_type": "code",
      "execution_count": null,
      "source": [
        "#A\r\n",
        "if rat_1[0] > rat_2[0]:\r\n",
        " print(\"Rat 1 weighed more than rat 2 on day 1.\")\r\n",
        "else:\r\n",
        " print(\"Rat 1 weighed less than rat 2 on day 1.\")\r\n",
        "#B\r\n",
        "if rat_1[0] > rat_2[0] and rat_1[-1] > rat_2[-1]:\r\n",
        " print(\"Rat 1 remained heavier than Rat 2.\")\r\n",
        "else:\r\n",
        " print(\"Rat 2 became heavier than Rat 1.\")\r\n",
        "#C\r\n",
        "if rat_1[0] > rat_2[0]:\r\n",
        " if rat_1[-1] > rat_2[-1]:\r\n",
        "  print(\"Rat 1 remained heavier than Rat 2.\")\r\n",
        " else:\r\n",
        "  print(\"Rat 2 became heavier than Rat 1.\")\r\n",
        "else:\r\n",
        "  print(\"Rat 2 became heavier than Rat 1.\")"
      ],
      "outputs": [],
      "metadata": {
        "id": "XLwztm2iLJPf"
      }
    },
    {
      "cell_type": "markdown",
      "source": [
        "Câu 9:"
      ],
      "metadata": {
        "id": "YmUPYHk_LLXH"
      }
    },
    {
      "cell_type": "code",
      "execution_count": null,
      "source": [
        "for number in range(33, 50):\r\n",
        " print(number)"
      ],
      "outputs": [
        {
          "output_type": "stream",
          "name": "stdout",
          "text": [
            "33\n",
            "34\n",
            "35\n",
            "36\n",
            "37\n",
            "38\n",
            "39\n",
            "40\n",
            "41\n",
            "42\n",
            "43\n",
            "44\n",
            "45\n",
            "46\n",
            "47\n",
            "48\n",
            "49\n"
          ]
        }
      ],
      "metadata": {
        "colab": {
          "base_uri": "https://localhost:8080/"
        },
        "id": "8QvRj4_kLNC4",
        "outputId": "cb138bd3-5690-4e18-ec55-82ba7df319ef"
      }
    },
    {
      "cell_type": "markdown",
      "source": [
        "Câu 10:"
      ],
      "metadata": {
        "id": "MARDXiZULPxv"
      }
    },
    {
      "cell_type": "code",
      "execution_count": null,
      "source": [
        "for number in range(10):\r\n",
        " print(10 - number, end=' ')"
      ],
      "outputs": [
        {
          "output_type": "stream",
          "name": "stdout",
          "text": [
            "10 9 8 7 6 5 4 3 2 1 "
          ]
        }
      ],
      "metadata": {
        "colab": {
          "base_uri": "https://localhost:8080/"
        },
        "id": "8av_hcjtLRK4",
        "outputId": "63caa443-b755-4718-a357-330302379446"
      }
    },
    {
      "cell_type": "markdown",
      "source": [
        "Câu 11:"
      ],
      "metadata": {
        "id": "V2NImUfDLT4e"
      }
    },
    {
      "cell_type": "code",
      "execution_count": null,
      "source": [
        "sum = 0\r\n",
        "count = 0\r\n",
        "for number in range(2,23):\r\n",
        " sum += number\r\n",
        " count += 1\r\n",
        "average = sum / count\r\n",
        "print(average)"
      ],
      "outputs": [
        {
          "output_type": "stream",
          "name": "stdout",
          "text": [
            "12.0\n"
          ]
        }
      ],
      "metadata": {
        "colab": {
          "base_uri": "https://localhost:8080/"
        },
        "id": "S1nzu5CILU6m",
        "outputId": "a76152c1-5586-4387-fefd-d778b64fe9b4"
      }
    },
    {
      "cell_type": "markdown",
      "source": [
        "Câu 12:"
      ],
      "metadata": {
        "id": "CiAjqgVPLWwI"
      }
    },
    {
      "cell_type": "code",
      "execution_count": null,
      "source": [
        "def remove_neg(num_list):\r\n",
        " index = 0\r\n",
        " while index < len(num_list):\r\n",
        "  if num_list[index] < 0:\r\n",
        "    del num_list[index]\r\n",
        "  else:\r\n",
        "    index += 1"
      ],
      "outputs": [],
      "metadata": {
        "id": "6vt21PgiLXkm"
      }
    },
    {
      "cell_type": "markdown",
      "source": [
        "Câu 13:"
      ],
      "metadata": {
        "id": "iN2NxgmZLZLX"
      }
    },
    {
      "cell_type": "code",
      "execution_count": null,
      "source": [
        "for width in range(1, 8):\r\n",
        " print('T' * width)"
      ],
      "outputs": [
        {
          "output_type": "stream",
          "name": "stdout",
          "text": [
            "T\n",
            "TT\n",
            "TTT\n",
            "TTTT\n",
            "TTTTT\n",
            "TTTTTT\n",
            "TTTTTTT\n"
          ]
        }
      ],
      "metadata": {
        "colab": {
          "base_uri": "https://localhost:8080/"
        },
        "id": "2D4d2Rl7LaQn",
        "outputId": "89cb977f-7ad4-4ffa-efe8-e028841285ee"
      }
    },
    {
      "cell_type": "markdown",
      "source": [
        "Câu 14:"
      ],
      "metadata": {
        "id": "3ILVk2VtLdGv"
      }
    },
    {
      "cell_type": "code",
      "execution_count": null,
      "source": [
        "for width in range(1, 8):\r\n",
        " print(' ' * (7 - width), 'T' * width, sep='')"
      ],
      "outputs": [
        {
          "output_type": "stream",
          "name": "stdout",
          "text": [
            "      T\n",
            "     TT\n",
            "    TTT\n",
            "   TTTT\n",
            "  TTTTT\n",
            " TTTTTT\n",
            "TTTTTTT\n"
          ]
        }
      ],
      "metadata": {
        "colab": {
          "base_uri": "https://localhost:8080/"
        },
        "id": "Pf8TtMhsLeTF",
        "outputId": "e158cc4e-bc41-4790-f38c-cf8dc9bbdba9"
      }
    },
    {
      "cell_type": "markdown",
      "source": [
        "Câu 15:"
      ],
      "metadata": {
        "id": "__ginT_bLgZ4"
      }
    },
    {
      "cell_type": "code",
      "execution_count": null,
      "source": [
        "width = 1\r\n",
        "while width < 8:\r\n",
        " print('T' * width)\r\n",
        " width += 1\r\n",
        "width = 1\r\n",
        "while width < 8:\r\n",
        " print(' ' * (7 - width), 'T' * width, sep='')\r\n",
        " width += 1"
      ],
      "outputs": [
        {
          "output_type": "stream",
          "name": "stdout",
          "text": [
            "T\n",
            "TT\n",
            "TTT\n",
            "TTTT\n",
            "TTTTT\n",
            "TTTTTT\n",
            "TTTTTTT\n",
            "      T\n",
            "     TT\n",
            "    TTT\n",
            "   TTTT\n",
            "  TTTTT\n",
            " TTTTTT\n",
            "TTTTTTT\n"
          ]
        }
      ],
      "metadata": {
        "colab": {
          "base_uri": "https://localhost:8080/"
        },
        "id": "nmYM53d6LhZH",
        "outputId": "c42bd14e-503b-4f2f-c4b3-5fe7ec801591"
      }
    },
    {
      "cell_type": "markdown",
      "source": [
        "Câu 16:"
      ],
      "metadata": {
        "id": "xeeguwcHLjfm"
      }
    },
    {
      "cell_type": "code",
      "execution_count": null,
      "source": [
        "#A\r\n",
        "week = 1\r\n",
        "while rat_1_weight[week] / rat_1_weight[0] - 1 < .25:\r\n",
        "  week += 1\r\n",
        "\r\n",
        "print(week)\r\n",
        "#B\r\n",
        "week = 0\r\n",
        "while rat_1_weight[week] / rat_2_weight[week] - 1 < .10:\r\n",
        " week += 1\r\n",
        " \r\n",
        "print(week)"
      ],
      "outputs": [],
      "metadata": {
        "id": "MX0QMjEILl0v"
      }
    }
  ]
}
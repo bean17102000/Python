{
  "nbformat": 4,
  "nbformat_minor": 2,
  "metadata": {
    "colab": {
      "name": "Lab04_chapter11.ipynb",
      "provenance": []
    },
    "interpreter": {
      "hash": "d0c0a7d00bb75b12d761b2ad53a9ccc3e4f9f49f880d146adf87aaa0b986a948"
    },
    "kernelspec": {
      "name": "python3",
      "display_name": "Python 3.9.7 64-bit"
    },
    "language_info": {
      "codemirror_mode": {
        "name": "ipython",
        "version": 3
      },
      "file_extension": ".py",
      "mimetype": "text/x-python",
      "name": "python",
      "nbconvert_exporter": "python",
      "pygments_lexer": "ipython3",
      "version": "3.9.7"
    }
  },
  "cells": [
    {
      "cell_type": "markdown",
      "source": [
        "Bài 1"
      ],
      "metadata": {
        "id": "CniNZmyH6WeF"
      }
    },
    {
      "cell_type": "code",
      "execution_count": 1,
      "source": [
        "def find_dups(L):\r\n",
        "    elem_set = set()\r\n",
        "    dups_set = set()\r\n",
        "    for entry in L:\r\n",
        "        len_initial = len(elem_set)\r\n",
        "        elem_set.add(entry)\r\n",
        "        len_after = len(elem_set)\r\n",
        "        if len_initial == len_after:\r\n",
        "            dups_set.add(entry)\r\n",
        "    return(dups_set)\r\n",
        "list_integers = [1,1,2,2,3,3,4,5,6,7,8,9]\r\n",
        "find_dups(list_integers)"
      ],
      "outputs": [
        {
          "output_type": "execute_result",
          "data": {
            "text/plain": [
              "{1, 2, 3}"
            ]
          },
          "metadata": {},
          "execution_count": 1
        }
      ],
      "metadata": {
        "colab": {
          "base_uri": "https://localhost:8080/"
        },
        "id": "pOGz7IqHQkDF",
        "outputId": "d00ebb4b-8c5c-45d0-93f0-395542a5c4e5"
      }
    },
    {
      "cell_type": "markdown",
      "source": [
        "Bài 2"
      ],
      "metadata": {
        "id": "HTfku8i26WeV"
      }
    },
    {
      "cell_type": "markdown",
      "source": [],
      "metadata": {}
    },
    {
      "cell_type": "code",
      "execution_count": 3,
      "source": [
        "def read_molecule(reader):\r\n",
        "    \r\n",
        "    line = reader.readline()\r\n",
        "    if not line:\r\n",
        "        return None\r\n",
        "\r\n",
        "    key, name = line.split()\r\n",
        "\r\n",
        "    molecule = [name]\r\n",
        "    line = reader.readline()\r\n",
        "    \r\n",
        "   \r\n",
        "    while not line.startswith('END'):\r\n",
        "        key, num, atom_type, x, y, z = line.split()\r\n",
        "        molecule.append([atom_type, x, y, z])\r\n",
        "        line = reader.readline()\r\n",
        "    return molecule\r\n",
        "\r\n",
        "def read_all_molecules(reader):\r\n",
        "    result = []\r\n",
        "    reading = True\r\n",
        "    while reading:\r\n",
        "        molecule = read_molecule(reader)\r\n",
        "        if molecule: \r\n",
        "            result.append(molecule)\r\n",
        "        else:\r\n",
        "            reading = False\r\n",
        "    return result\r\n",
        "if __name__ == \"__main__\":\r\n",
        "    molecule_file = open('multimol.pdb','r')\r\n",
        "    molecules = read_all_molecules(molecule_file)\r\n",
        "    print(molecules)"
      ],
      "outputs": [
        {
          "output_type": "stream",
          "name": "stdout",
          "text": [
            "[['AMMONIA', ['N', '0.257', '-0.363', '0.000'], ['H', '0.257', '0.727', '0.000'], ['H', '0.771', '-0.727', '0.890'], ['H', '0.771', '-0.727', '-0.890']], ['METHANOL', ['C', '-0.748', '-0.015', '0.024'], ['O', '0.558', '0.420', '-0.278'], ['H', '-1.293', '-0.202', '-0.901'], ['H', '-1.263', '0.754', '0.600'], ['H', '-0.699', '-0.934', '0.609'], ['H', '0.716', '1.404', '0.137']]]\n"
          ]
        }
      ],
      "metadata": {
        "id": "LH3TvOrS6WeW",
        "outputId": "2c225d7b-afaa-4584-b183-62c0de3d656a"
      }
    },
    {
      "cell_type": "markdown",
      "source": [
        "Bài 3"
      ],
      "metadata": {
        "id": "wrsogFAQ6WeX"
      }
    },
    {
      "cell_type": "code",
      "execution_count": 4,
      "source": [
        "def mating_pairs(males, females):\r\n",
        "    try:\r\n",
        "        pairs = set()\r\n",
        "        num_gerbils = len(males)\r\n",
        "        for i in range(num_gerbils):\r\n",
        "            male = males.pop()\r\n",
        "            female = females.pop()\r\n",
        "            pairs.add((male, female),)\r\n",
        "        return pairs\r\n",
        "    except:\r\n",
        "        return print(\"Số lượng Males và Females phải bằng nhau\")\r\n",
        "males = {'Nam1', 'Nam2', 'Nam3'}\r\n",
        "females = {'Nu1', 'Nu2', 'Nu3'}\r\n",
        "mating_pairs(males, females)"
      ],
      "outputs": [
        {
          "output_type": "execute_result",
          "data": {
            "text/plain": [
              "{('Nam1', 'Nu3'), ('Nam2', 'Nu1'), ('Nam3', 'Nu2')}"
            ]
          },
          "metadata": {},
          "execution_count": 4
        }
      ],
      "metadata": {
        "id": "r1cPeV9g6WeY",
        "outputId": "3bece4b0-9bc7-4a06-d877-cb0a2a66e8a7"
      }
    },
    {
      "cell_type": "markdown",
      "source": [
        "Bài 4"
      ],
      "metadata": {
        "id": "JoLgPuYu6WeZ"
      }
    },
    {
      "cell_type": "code",
      "execution_count": 5,
      "source": [
        "def get_authors(filenames):\r\n",
        "    authors = set()\r\n",
        "    for filename in filenames:\r\n",
        "        for line in open(filename,'r'):\r\n",
        "            if line.lower().startswith('author'):\r\n",
        "                author = line[6:].strip()\r\n",
        "                authors.add(author)\r\n",
        "    return authors\r\n",
        "if __name__ == \"__main__\":\r\n",
        "    list_file = ['PDB_1.pdb','PDB_2.pdb']\r\n",
        "    print(get_authors(list_file))"
      ],
      "outputs": [
        {
          "output_type": "stream",
          "name": "stdout",
          "text": [
            "{'Ha Duong Khanh', 'J.K.Rowling'}\n"
          ]
        }
      ],
      "metadata": {
        "id": "rzwAeQ6w6Wea",
        "outputId": "1af7a44b-f420-4cab-f7bc-434f1dd2d8d4"
      }
    },
    {
      "cell_type": "code",
      "execution_count": 6,
      "source": [
        "#Cau5 \r\n",
        "from typing import Dict\r\n",
        "def count_values(inDict: Dict) -> int:\r\n",
        "    \r\n",
        "    finalList = []\r\n",
        "\r\n",
        "    for i in inDict.values():\r\n",
        "        if i not in finalList:\r\n",
        "            finalList.append(i)\r\n",
        "    \r\n",
        "    return len(finalList)\r\n",
        "\r\n",
        "\r\n",
        "\r\n",
        "color = {'red':1,'green':1,'blue':2}\r\n",
        "\r\n",
        "print(count_values(color))"
      ],
      "outputs": [
        {
          "output_type": "stream",
          "name": "stdout",
          "text": [
            "2\n"
          ]
        }
      ],
      "metadata": {
        "id": "CwJOtjmo6Wed",
        "outputId": "86367d62-9216-411d-e23b-6c01153f6db0"
      }
    },
    {
      "cell_type": "code",
      "execution_count": 7,
      "source": [
        "#Cau6\r\n",
        "from typing import Dict\r\n",
        "def leastProbable(particleDict: Dict[str, float]) -> str:\r\n",
        "    minValue = min(particleDict.values())\r\n",
        "    printValue = ''\r\n",
        "    for key,value in particleDict.items():\r\n",
        "        if value == minValue:\r\n",
        "            return key\r\n",
        "\r\n",
        "\r\n",
        "values = { 'neutron ': 0.55,  'proton ': 0.21,  'meson ': 0.03,  'muon ': 0.07,  'neutrino ': 0.14}\r\n",
        "print(leastProbable(values))"
      ],
      "outputs": [
        {
          "output_type": "stream",
          "name": "stdout",
          "text": [
            "meson \n"
          ]
        }
      ],
      "metadata": {
        "id": "iQQVYU9t6Weh",
        "outputId": "00422fce-ef02-45dd-fbaf-d6e0c4986ae2"
      }
    },
    {
      "cell_type": "code",
      "execution_count": 8,
      "source": [
        "\r\n",
        "\r\n",
        "#Cau 7\r\n",
        "def count_duplicates(inDict) -> int:\r\n",
        "\r\n",
        "    lstAllValues = []\r\n",
        "    lstAdditional = []\r\n",
        "    lstFinal = []\r\n",
        "\r\n",
        "    for i in inDict.values():\r\n",
        "        lstAllValues.append(i)\r\n",
        "        lstAdditional.append(i)\r\n",
        "    \r\n",
        "    lstFinal = set(lstAllValues).intersection(lstAdditional)\r\n",
        "\r\n",
        "    return(len(lstAllValues) - len(lstFinal))\r\n",
        "\r\n",
        "\r\n",
        "number = {'one' : 1, 'two' : 2, 'two1' : 2, 'three1' : 3,'three' : 3}\r\n",
        "\r\n",
        "print(count_duplicates(number))"
      ],
      "outputs": [
        {
          "output_type": "stream",
          "name": "stdout",
          "text": [
            "2\n"
          ]
        }
      ],
      "metadata": {
        "id": "yJd0RvBN6Wej",
        "outputId": "3f4a263b-9b16-4aa4-9af1-2149363290ba"
      }
    },
    {
      "cell_type": "code",
      "execution_count": 9,
      "source": [
        "#Cau8\r\n",
        "def is_balanced (inDict:[str, float]) -> bool:\r\n",
        "    \r\n",
        "    sumVar = 0.0\r\n",
        "\r\n",
        "    for i in inDict.values():\r\n",
        "        sumVar = sumVar + i \r\n",
        "\r\n",
        "    return sumVar == 1\r\n",
        "\r\n",
        "\r\n",
        "RGB = {'R' : 0.2 , 'G' : 0.2, 'B' : 0.6}\r\n",
        "\r\n",
        "print(is_balanced(RGB))"
      ],
      "outputs": [
        {
          "output_type": "stream",
          "name": "stdout",
          "text": [
            "True\n"
          ]
        }
      ],
      "metadata": {
        "id": "u3TF5fnl6Wem",
        "outputId": "f61e6722-3c8e-48c3-c6e3-a76fa1b02ded"
      }
    },
    {
      "cell_type": "code",
      "execution_count": 10,
      "source": [
        "#Cau 9\r\n",
        "def dict_intersect(inDict, inDict1) -> dict :\r\n",
        "    \r\n",
        "    return dict(inDict.items() & inDict1.items())\r\n",
        "\r\n",
        "\r\n",
        "\r\n",
        "# How to use it :\r\n",
        "\r\n",
        "Dictionary0 = {'one' : 1, 'two' : 2 }\r\n",
        "Dictionary1 = {'one' : 1, 'three' : 2 }\r\n",
        "\r\n",
        "print(dict_intersect(Dictionary0,Dictionary1))"
      ],
      "outputs": [
        {
          "output_type": "stream",
          "name": "stdout",
          "text": [
            "{'one': 1}\n"
          ]
        }
      ],
      "metadata": {
        "id": "zwAal5jb6Weo",
        "outputId": "ecbf0067-3d8b-4355-d00d-cbb9f5736ee0"
      }
    },
    {
      "cell_type": "code",
      "execution_count": 18,
      "source": [
        "#Cau 10 \r\n",
        "def db_headings(dict_of_dict):\r\n",
        "    inner_keys = set()\r\n",
        "    for key in dict_of_dict:\r\n",
        "        for inner_key in dict_of_dict[key]:\r\n",
        "            inner_keys.add(inner_key)\r\n",
        "    return inner_keys\r\n",
        "\r\n",
        "\r\n",
        "db_headings(\r\n",
        "    {'jgoodall': {'surname': 'Goodall',\r\n",
        "                  'forename': 'Jane',\r\n",
        "                  'born': 1934,\r\n",
        "                  'died': None,\r\n",
        "                  'notes': 'primate researcher',\r\n",
        "                  'author': ['In the Shadow of Man',\r\n",
        "                              'The Chimpanzees of Gombe']},\r\n",
        "\r\n",
        "     'rfranklin': {'surname': 'Franklin',\r\n",
        "                   'forename': 'Rosalind',\r\n",
        "                   'born': 1920,\r\n",
        "                   'died': 1957,\r\n",
        "                   'notes': 'contributed to discovery of DNA'},\r\n",
        "\r\n",
        "     'rcarson': {'surname': 'Carson',\r\n",
        "                 'forename': 'Rachel',\r\n",
        "                 'born': 1907,\r\n",
        "                 'died': 1964,\r\n",
        "                 'notes': 'raised awareness of effects of DDT',\r\n",
        "                 'author': ['Silent Spring']}\r\n",
        "     }\r\n",
        ")\r\n"
      ],
      "outputs": [
        {
          "output_type": "execute_result",
          "data": {
            "text/plain": [
              "{'author', 'born', 'died', 'forename', 'notes', 'surname'}"
            ]
          },
          "metadata": {},
          "execution_count": 18
        }
      ],
      "metadata": {
        "id": "D53wMP1m6Wer",
        "outputId": "ccaf9ec5-1836-4e59-9858-57f31f94e801"
      }
    },
    {
      "cell_type": "code",
      "execution_count": 19,
      "source": [
        "#Cau11\r\n",
        "def db_consistent(dict_of_dict):\r\n",
        "    inner_keys_list = []\r\n",
        "    # List of list of keys\r\n",
        "    for key in dict_of_dict:\r\n",
        "        inner_keys = list(dict_of_dict[key].keys())\r\n",
        "        inner_keys.sort()\r\n",
        "        inner_keys_list.append(inner_keys)\r\n",
        "\r\n",
        "    for i in range(1, len(inner_keys_list)):\r\n",
        "        # If the number of keys is different.\r\n",
        "        if len(inner_keys_list[0]) != len(inner_keys_list[i]):\r\n",
        "            return False\r\n",
        "\r\n",
        "        # If the keys don't match.\r\n",
        "        for j in range(len(inner_keys_list[0])):\r\n",
        "            if inner_keys_list[0][j] != inner_keys_list[i][j]:\r\n",
        "                return False\r\n",
        "    return True\r\n",
        "\r\n",
        "\r\n",
        "db_consistent(\r\n",
        "    {'jgoodall': {'surname': 'Goodall',\r\n",
        "                  'forename': 'Jane',\r\n",
        "                  'born': 1934,\r\n",
        "                  'died': None,\r\n",
        "                  'notes': 'primate researcher',\r\n",
        "                  'author': ['In the Shadow of Man',\r\n",
        "                              'The Chimpanzees of Gombe']},\r\n",
        "\r\n",
        "     'rfranklin': {'surname': 'Franklin',\r\n",
        "                   'forename': 'Rosalind',\r\n",
        "                   'born': 1920,\r\n",
        "                   'died': 1957,\r\n",
        "                   'notes': 'contributed to discovery of DNA'},\r\n",
        "\r\n",
        "     'rcarson': {'surname': 'Carson',\r\n",
        "                 'forename': 'Rachel',\r\n",
        "                 'born': 1907,\r\n",
        "                 'died': 1964,\r\n",
        "                 'notes': 'raised awareness of effects of DDT',\r\n",
        "                 'author': ['Silent Spring']}\r\n",
        "     }\r\n",
        ")\r\n"
      ],
      "outputs": [
        {
          "output_type": "execute_result",
          "data": {
            "text/plain": [
              "False"
            ]
          },
          "metadata": {},
          "execution_count": 19
        }
      ],
      "metadata": {
        "id": "93PcHMma6Wes",
        "outputId": "99b74b58-f719-46fa-cf35-90bb53d29344"
      }
    },
    {
      "cell_type": "code",
      "execution_count": 20,
      "source": [
        "#Câu 12\r\n",
        "#A\r\n",
        "def sparse_add(vector1, vector2):\r\n",
        "  sum_vector = vector1.copy()\r\n",
        "  for key in vector2:\r\n",
        "    if key in sum_vector:\r\n",
        "      sum_vector[key] = sum_vector[key] + vector2[key]\r\n",
        "    else:\r\n",
        "      sum_vector[key] = vector2[key]\r\n",
        "  return sum_vector\r\n",
        "\r\n",
        "\r\n",
        "sparse_add({1: 3, 3: 4}, {2: 4, 3: 5, 5: 6})\r\n"
      ],
      "outputs": [
        {
          "output_type": "execute_result",
          "data": {
            "text/plain": [
              "{1: 3, 3: 9, 2: 4, 5: 6}"
            ]
          },
          "metadata": {},
          "execution_count": 20
        }
      ],
      "metadata": {}
    },
    {
      "cell_type": "code",
      "execution_count": 21,
      "source": [
        "#B\r\n",
        "def sparse_dot(vector1, vector2):\r\n",
        "  dot = 0\r\n",
        "  for key1 in vector1:\r\n",
        "    if key1 in vector2:\r\n",
        "      dot = dot + vector1[key1] * vector2[key1]\r\n",
        "  return dot\r\n",
        "\r\n",
        "\r\n",
        "sparse_dot({1: 3, 3: 4}, {2: 4, 3: 5, 5: 6})\r\n"
      ],
      "outputs": [
        {
          "output_type": "execute_result",
          "data": {
            "text/plain": [
              "20"
            ]
          },
          "metadata": {},
          "execution_count": 21
        }
      ],
      "metadata": {}
    }
  ]
}